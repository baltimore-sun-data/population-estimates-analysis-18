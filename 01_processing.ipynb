{
 "cells": [
  {
   "cell_type": "markdown",
   "metadata": {},
   "source": [
    "## Processing "
   ]
  },
  {
   "cell_type": "markdown",
   "metadata": {},
   "source": [
    "This notebook reads in the following U.S. Census Bureau county-level datasets on population estimates:\n",
    "\n",
    "*For the 2000-2010 period*\n",
    "- [**Vintage 2010 postcensal estimates**](https://www.census.gov/programs-surveys/popest/technical-documentation/research/evaluation-estimates.html): estimates released in 2011 for the 2000-2010 period, with no knowledge of the Census count at the end of the decade\n",
    "- [**2000-2010 intercensal estimates**](https://www.census.gov/data/datasets/time-series/demo/popest/intercensal-2000-2010-counties.html): revised estimates released in 2012 after the 2010 Census count. The preferred estimates for the period. [Per the Bureau](https://www.census.gov/programs-surveys/popest/guidance.html): \"They differ from the postcensal estimates that are released annually because they rely on a formula that redistributes the difference between the April 1 postcensal estimate and April 1 census count for the end of the decade across the estimates for that decade.\"\n",
    "\n",
    "*For the 2010-2018 period*\n",
    "- [**Vintage 2018 postcensal estimates**](https://www.census.gov/data/tables/time-series/demo/popest/2010s-counties-total.html): estimates released in 2019 for the 2010-2018 period, produced (obviously) with no knowledge of the Census count in 2020. For explanations of the data fields in this file, see the [technical documentation](https://www2.census.gov/programs-surveys/popest/technical-documentation/file-layouts/2010-2018/co-est2018-alldata.pdf).\n",
    "\n",
    "The raw datasets are saved in the `input/` folder. The processed datasets are saved in the `output/` folder.\n",
    "\n",
    "The data are filtered to contain only counties in Maryland. "
   ]
  },
  {
   "cell_type": "code",
   "execution_count": null,
   "metadata": {},
   "outputs": [],
   "source": [
    "suppressMessages(library('tidyverse'))\n",
    "suppressMessages(library('reshape2'))\n",
    "suppressMessages(library('janitor'))"
   ]
  },
  {
   "cell_type": "markdown",
   "metadata": {},
   "source": [
    "2000-2010 period"
   ]
  },
  {
   "cell_type": "code",
   "execution_count": 63,
   "metadata": {},
   "outputs": [],
   "source": [
    "process_00_10 <- function (type) {\n",
    "    df <- read_csv(paste0('input/pop_00_10_', type, '.csv'))  %>% \n",
    "          clean_names() %>% \n",
    "          select(-sumlev, -state, -region, -division) %>% \n",
    "          filter(stname == 'Maryland') \n",
    "\n",
    "    df.m <- melt(df, id.vars = c('stname', 'ctyname', 'county')) %>% \n",
    "                 rename(label = variable, tot.pop = value) %>% \n",
    "                 mutate(year.label = \n",
    "                        case_when(grepl('2000', label) ~ 2000,\n",
    "                                  grepl('2001', label) ~ 2001,\n",
    "                                  grepl('2002', label) ~ 2002,\n",
    "                                  grepl('2003', label) ~ 2003,\n",
    "                                  grepl('2004', label) ~ 2004,\n",
    "                                  grepl('2005', label) ~ 2005,\n",
    "                                  grepl('2006', label) ~ 2006,\n",
    "                                  grepl('2007', label) ~ 2007,\n",
    "                                  grepl('2008', label) ~ 2008,\n",
    "                                  grepl('2009', label) ~ 2009,\n",
    "                                  grepl('2010', label) ~ 2010),\n",
    "                       county = str_pad(county, 3, pad = \"0\"))\n",
    "    \n",
    "    return(df.m)\n",
    "    }\n",
    "\n",
    "md.inter <- suppressMessages(process_00_10('inter'))\n",
    "md.post <- suppressMessages(process_00_10('post'))\n",
    "\n",
    "write_csv(md.inter, 'output/md_inter_00_10.csv')\n",
    "write_csv(md.post, 'output/md_post_00_10.csv')"
   ]
  },
  {
   "cell_type": "markdown",
   "metadata": {},
   "source": [
    "2010-2018 period"
   ]
  },
  {
   "cell_type": "code",
   "execution_count": 66,
   "metadata": {},
   "outputs": [],
   "source": [
    "md.18 <- suppressMessages(read_csv('input/CO-EST2018-Alldata.csv') %>% \n",
    "                            clean_names() %>% filter(state == '24') %>% select(-sumlev, \n",
    "                                                                               -region,\n",
    "                                                                               -division,\n",
    "                                                                               -state))\n",
    "        \n",
    "md.18.m <- melt(md.18, \n",
    "                id.vars = c('county', 'stname', 'ctyname')) %>% \n",
    "                mutate(year.label = str_extract(variable, \"\\\\-*\\\\d+\\\\.*\\\\d*\"))\n",
    "\n",
    "write_csv(md.18.m, 'output/md_10_18.csv')"
   ]
  }
 ],
 "metadata": {
  "kernelspec": {
   "display_name": "R",
   "language": "R",
   "name": "ir"
  },
  "language_info": {
   "codemirror_mode": "r",
   "file_extension": ".r",
   "mimetype": "text/x-r-source",
   "name": "R",
   "pygments_lexer": "r",
   "version": "3.5.3"
  }
 },
 "nbformat": 4,
 "nbformat_minor": 2
}
