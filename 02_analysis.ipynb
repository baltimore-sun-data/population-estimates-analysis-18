{
 "cells": [
  {
   "cell_type": "markdown",
   "metadata": {},
   "source": [
    "## Analysis: population estimates for 2018"
   ]
  },
  {
   "cell_type": "markdown",
   "metadata": {},
   "source": [
    "By [Christine Zhang](mailto:czhang@baltsun.com)\n",
    "\n",
    "The Baltimore Sun conducted an analysis of county-level population estimates for the state of Maryland — with a focus on the city of Baltimore — for a story published April 18, 2019 titled [\"Baltimore sees biggest population loss in single year since 2001, census estimates show\"](https://www.baltimoresun.com/news/maryland/baltimore-city/bs-md-census-estimate-population-20190416-story.html) (print headline: \"People continue to leave Baltimore\").\n",
    "\n",
    "Here are the key findings of the data analysis:\n",
    "\n",
    "- Baltimore city lost 7,346 people, or 1.2% of its population, during the 12 months that ended July 1, 2018. The decline puts Baltimore’s estimated population at 602,495 as of July 1, 2018.\n",
    "- The decline is the biggest loss the city has experienced in a single year since 2001.\n",
    "- The decline marks the fourth year in a row in which the city’s population has fallen, starting in 2015.\n",
    "- Between July 2017 and July 2018, Baltimore lost more than 10,000 residents due to domestic migration and gained nearly 2,000 new residents from international migration. The natural increase in population was 1,037.\n",
    "- Over the 12-month period, domestic migration in Maryland was 24,518, international migration added 22,575 residents and the natural population increase was 19,845.\n",
    "- Since July 2010, Baltimore has lost more than 18,500 residents, or 3% of its population, while its neighbors have seen population gains.\n",
    "- Between 2017 and 2018, all other counties in the Baltimore region experienced upticks in population, with the exception of Baltimore County, whose year-over-year numbers remained flat.\n",
    "- Population estimates showing a slight increase in Baltimore's population in 2006 were revised after the 2010 decennial census, turning a slight increase in population into a very small decline."
   ]
  },
  {
   "cell_type": "markdown",
   "metadata": {},
   "source": [
    "## How we did it"
   ]
  },
  {
   "cell_type": "markdown",
   "metadata": {},
   "source": [
    "### Run `01_processing.ipynb`"
   ]
  },
  {
   "cell_type": "markdown",
   "metadata": {},
   "source": [
    "The raw data files from the Census Bureau were pre-processed prior to the analysis. See the processing notebook `01_processing.ipynb` for more details."
   ]
  },
  {
   "cell_type": "markdown",
   "metadata": {},
   "source": [
    "### Import R data analysis libraries"
   ]
  },
  {
   "cell_type": "code",
   "execution_count": 1,
   "metadata": {},
   "outputs": [],
   "source": [
    "suppressMessages(library('tidyverse'))"
   ]
  },
  {
   "cell_type": "markdown",
   "metadata": {},
   "source": [
    "Read in the data saved in the `output/` folder for analysis. These include:\n",
    "\n",
    "*For the 2000-2010 period*\n",
    "- [**Vintage 2010 postcensal estimates**](https://www.census.gov/programs-surveys/popest/technical-documentation/research/evaluation-estimates.html): estimates released in 2011 for the 2000-2010 period, with no knowledge of the Census count at the end of the decade. Saved as `output/md_post_00_10.csv`.\n",
    "- [**2000-2010 intercensal estimates**](https://www.census.gov/data/datasets/time-series/demo/popest/intercensal-2000-2010-counties.html): revised estimates released in 2012 after the 2010 Census count. The preferred estimates for the period. [Per the Bureau](https://www.census.gov/programs-surveys/popest/guidance.html): \"They differ from the postcensal estimates that are released annually because they rely on a formula that redistributes the difference between the April 1 postcensal estimate and April 1 census count for the end of the decade across the estimates for that decade.\" Saved as `output/md_inter_00_10.csv`.\n",
    "\n",
    "*For the 2010-2018 period*\n",
    "- [**Vintage 2018 postcensal estimates**](https://www.census.gov/data/tables/time-series/demo/popest/2010s-counties-total.html): estimates released in 2019 for the 2010-2018 period, produced (obviously) with no knowledge of the Census count in 2020. For explanations of the data fields in this file, see the [technical documentation](https://www2.census.gov/programs-surveys/popest/technical-documentation/file-layouts/2010-2018/co-est2018-alldata.pdf). Saved as `output/md_10_18.csv`."
   ]
  },
  {
   "cell_type": "code",
   "execution_count": 3,
   "metadata": {},
   "outputs": [],
   "source": [
    "md.intercensal <- suppressMessages(read_csv('output/md_inter_00_10.csv'))\n",
    "md.postcensal <- suppressMessages(read_csv('output/md_post_00_10.csv'))\n",
    "md.18 <- suppressMessages(read_csv('output/md_10_18.csv'))"
   ]
  },
  {
   "cell_type": "markdown",
   "metadata": {},
   "source": [
    "### Finding: Baltimore city lost 7,346 people, or 1.2% of its population, during the 12 months that ended July 1, 2018. The decline puts Baltimore’s estimated population at 602,495 as of July 1, 2018."
   ]
  },
  {
   "cell_type": "markdown",
   "metadata": {},
   "source": [
    "Create a dataframe, `pop.18`, that shows each county in Maryland and its year-to-year population change in numeric and percentage terms."
   ]
  },
  {
   "cell_type": "code",
   "execution_count": 26,
   "metadata": {},
   "outputs": [],
   "source": [
    "pop.18 <- md.18 %>% filter(grepl('popestimate', variable)) %>% \n",
    "                    group_by(county) %>% arrange(year.label) %>% \n",
    "                    mutate(chg = value - lag(value),\n",
    "                           pcg = (value/lag(value) - 1) * 100) %>% arrange(county, year.label)"
   ]
  },
  {
   "cell_type": "markdown",
   "metadata": {},
   "source": [
    "Filter to Baltimore City."
   ]
  },
  {
   "cell_type": "code",
   "execution_count": 27,
   "metadata": {},
   "outputs": [
    {
     "data": {
      "text/html": [
       "<table>\n",
       "<thead><tr><th scope=col>county</th><th scope=col>stname</th><th scope=col>ctyname</th><th scope=col>variable</th><th scope=col>value</th><th scope=col>year.label</th><th scope=col>chg</th><th scope=col>pcg</th></tr></thead>\n",
       "<tbody>\n",
       "\t<tr><td>510            </td><td>Maryland       </td><td>Baltimore city </td><td>popestimate2018</td><td>602495         </td><td>2018           </td><td>-7346          </td><td>-1.204576      </td></tr>\n",
       "</tbody>\n",
       "</table>\n"
      ],
      "text/latex": [
       "\\begin{tabular}{r|llllllll}\n",
       " county & stname & ctyname & variable & value & year.label & chg & pcg\\\\\n",
       "\\hline\n",
       "\t 510             & Maryland        & Baltimore city  & popestimate2018 & 602495          & 2018            & -7346           & -1.204576      \\\\\n",
       "\\end{tabular}\n"
      ],
      "text/markdown": [
       "\n",
       "| county | stname | ctyname | variable | value | year.label | chg | pcg |\n",
       "|---|---|---|---|---|---|---|---|\n",
       "| 510             | Maryland        | Baltimore city  | popestimate2018 | 602495          | 2018            | -7346           | -1.204576       |\n",
       "\n"
      ],
      "text/plain": [
       "  county stname   ctyname        variable        value  year.label chg  \n",
       "1 510    Maryland Baltimore city popestimate2018 602495 2018       -7346\n",
       "  pcg      \n",
       "1 -1.204576"
      ]
     },
     "metadata": {},
     "output_type": "display_data"
    }
   ],
   "source": [
    "pop.18 %>% filter(year.label == 2018 & \n",
    "                  county == '510')"
   ]
  },
  {
   "cell_type": "code",
   "execution_count": 34,
   "metadata": {},
   "outputs": [
    {
     "name": "stdout",
     "output_type": "stream",
     "text": [
      "[1] \"Baltimore city lost -7346 people, or -1.2 % of its population, during the 12 months that ended July 1, 2018. The decline puts Baltimore’s estimated population at 602495 as of July 1, 2018.\"\n"
     ]
    }
   ],
   "source": [
    "print(paste(\"Baltimore city lost\", pop.18[pop.18$county == '510' & \n",
    "                                          pop.18$year.label == 2018, ]$chg, \n",
    "            \"people, or\", \n",
    "            round(pop.18[pop.18$county == '510' & \n",
    "                                          pop.18$year.label == 2018, ]$pcg, 2),\n",
    "            \"% of its population, during the 12 months that ended July 1, 2018. The decline puts Baltimore’s estimated population at\", \n",
    "      pop.18[pop.18$county == '510' & pop.18$year.label == 2018, ]$value, \"as of July 1, 2018.\"))"
   ]
  },
  {
   "cell_type": "markdown",
   "metadata": {},
   "source": [
    "### The decline is the biggest loss the city has experienced in a single year since 2001."
   ]
  },
  {
   "cell_type": "markdown",
   "metadata": {},
   "source": [
    "Use the intercensal estimates for 2000-2010, `intercensal`, to calculate changes in counties' population over that decade. Filter to Baltimore City."
   ]
  },
  {
   "cell_type": "code",
   "execution_count": 83,
   "metadata": {},
   "outputs": [
    {
     "data": {
      "text/html": [
       "<table>\n",
       "<thead><tr><th scope=col>stname</th><th scope=col>ctyname</th><th scope=col>county</th><th scope=col>label</th><th scope=col>tot.pop</th><th scope=col>year.label</th><th scope=col>chg</th><th scope=col>pcg</th></tr></thead>\n",
       "<tbody>\n",
       "\t<tr><td>Maryland       </td><td>Baltimore city </td><td>510            </td><td>popestimate2000</td><td>649086         </td><td>2000           </td><td>   NA          </td><td>         NA    </td></tr>\n",
       "\t<tr><td>Maryland       </td><td>Baltimore city </td><td>510            </td><td>popestimate2001</td><td>640733         </td><td>2001           </td><td>-8353          </td><td>-1.28688648    </td></tr>\n",
       "\t<tr><td>Maryland       </td><td>Baltimore city </td><td>510            </td><td>popestimate2002</td><td>634115         </td><td>2002           </td><td>-6618          </td><td>-1.03287953    </td></tr>\n",
       "\t<tr><td>Maryland       </td><td>Baltimore city </td><td>510            </td><td>popestimate2003</td><td>629033         </td><td>2003           </td><td>-5082          </td><td>-0.80143192    </td></tr>\n",
       "\t<tr><td>Maryland       </td><td>Baltimore city </td><td>510            </td><td>popestimate2004</td><td>624222         </td><td>2004           </td><td>-4811          </td><td>-0.76482474    </td></tr>\n",
       "\t<tr><td>Maryland       </td><td>Baltimore city </td><td>510            </td><td>popestimate2005</td><td>621560         </td><td>2005           </td><td>-2662          </td><td>-0.42645085    </td></tr>\n",
       "\t<tr><td>Maryland       </td><td>Baltimore city </td><td>510            </td><td>popestimate2006</td><td>621109         </td><td>2006           </td><td> -451          </td><td>-0.07255937    </td></tr>\n",
       "\t<tr><td>Maryland       </td><td>Baltimore city </td><td>510            </td><td>popestimate2007</td><td>620306         </td><td>2007           </td><td> -803          </td><td>-0.12928488    </td></tr>\n",
       "\t<tr><td>Maryland       </td><td>Baltimore city </td><td>510            </td><td>popestimate2008</td><td>620184         </td><td>2008           </td><td> -122          </td><td>-0.01966771    </td></tr>\n",
       "\t<tr><td>Maryland       </td><td>Baltimore city </td><td>510            </td><td>popestimate2009</td><td>620509         </td><td>2009           </td><td>  325          </td><td> 0.05240380    </td></tr>\n",
       "\t<tr><td>Maryland       </td><td>Baltimore city </td><td>510            </td><td>popestimate2010</td><td>620583         </td><td>2010           </td><td>   74          </td><td> 0.01192569    </td></tr>\n",
       "</tbody>\n",
       "</table>\n"
      ],
      "text/latex": [
       "\\begin{tabular}{r|llllllll}\n",
       " stname & ctyname & county & label & tot.pop & year.label & chg & pcg\\\\\n",
       "\\hline\n",
       "\t Maryland        & Baltimore city  & 510             & popestimate2000 & 649086          & 2000            &    NA           &          NA    \\\\\n",
       "\t Maryland        & Baltimore city  & 510             & popestimate2001 & 640733          & 2001            & -8353           & -1.28688648    \\\\\n",
       "\t Maryland        & Baltimore city  & 510             & popestimate2002 & 634115          & 2002            & -6618           & -1.03287953    \\\\\n",
       "\t Maryland        & Baltimore city  & 510             & popestimate2003 & 629033          & 2003            & -5082           & -0.80143192    \\\\\n",
       "\t Maryland        & Baltimore city  & 510             & popestimate2004 & 624222          & 2004            & -4811           & -0.76482474    \\\\\n",
       "\t Maryland        & Baltimore city  & 510             & popestimate2005 & 621560          & 2005            & -2662           & -0.42645085    \\\\\n",
       "\t Maryland        & Baltimore city  & 510             & popestimate2006 & 621109          & 2006            &  -451           & -0.07255937    \\\\\n",
       "\t Maryland        & Baltimore city  & 510             & popestimate2007 & 620306          & 2007            &  -803           & -0.12928488    \\\\\n",
       "\t Maryland        & Baltimore city  & 510             & popestimate2008 & 620184          & 2008            &  -122           & -0.01966771    \\\\\n",
       "\t Maryland        & Baltimore city  & 510             & popestimate2009 & 620509          & 2009            &   325           &  0.05240380    \\\\\n",
       "\t Maryland        & Baltimore city  & 510             & popestimate2010 & 620583          & 2010            &    74           &  0.01192569    \\\\\n",
       "\\end{tabular}\n"
      ],
      "text/markdown": [
       "\n",
       "| stname | ctyname | county | label | tot.pop | year.label | chg | pcg |\n",
       "|---|---|---|---|---|---|---|---|\n",
       "| Maryland        | Baltimore city  | 510             | popestimate2000 | 649086          | 2000            |    NA           |          NA     |\n",
       "| Maryland        | Baltimore city  | 510             | popestimate2001 | 640733          | 2001            | -8353           | -1.28688648     |\n",
       "| Maryland        | Baltimore city  | 510             | popestimate2002 | 634115          | 2002            | -6618           | -1.03287953     |\n",
       "| Maryland        | Baltimore city  | 510             | popestimate2003 | 629033          | 2003            | -5082           | -0.80143192     |\n",
       "| Maryland        | Baltimore city  | 510             | popestimate2004 | 624222          | 2004            | -4811           | -0.76482474     |\n",
       "| Maryland        | Baltimore city  | 510             | popestimate2005 | 621560          | 2005            | -2662           | -0.42645085     |\n",
       "| Maryland        | Baltimore city  | 510             | popestimate2006 | 621109          | 2006            |  -451           | -0.07255937     |\n",
       "| Maryland        | Baltimore city  | 510             | popestimate2007 | 620306          | 2007            |  -803           | -0.12928488     |\n",
       "| Maryland        | Baltimore city  | 510             | popestimate2008 | 620184          | 2008            |  -122           | -0.01966771     |\n",
       "| Maryland        | Baltimore city  | 510             | popestimate2009 | 620509          | 2009            |   325           |  0.05240380     |\n",
       "| Maryland        | Baltimore city  | 510             | popestimate2010 | 620583          | 2010            |    74           |  0.01192569     |\n",
       "\n"
      ],
      "text/plain": [
       "   stname   ctyname        county label           tot.pop year.label chg  \n",
       "1  Maryland Baltimore city 510    popestimate2000 649086  2000          NA\n",
       "2  Maryland Baltimore city 510    popestimate2001 640733  2001       -8353\n",
       "3  Maryland Baltimore city 510    popestimate2002 634115  2002       -6618\n",
       "4  Maryland Baltimore city 510    popestimate2003 629033  2003       -5082\n",
       "5  Maryland Baltimore city 510    popestimate2004 624222  2004       -4811\n",
       "6  Maryland Baltimore city 510    popestimate2005 621560  2005       -2662\n",
       "7  Maryland Baltimore city 510    popestimate2006 621109  2006        -451\n",
       "8  Maryland Baltimore city 510    popestimate2007 620306  2007        -803\n",
       "9  Maryland Baltimore city 510    popestimate2008 620184  2008        -122\n",
       "10 Maryland Baltimore city 510    popestimate2009 620509  2009         325\n",
       "11 Maryland Baltimore city 510    popestimate2010 620583  2010          74\n",
       "   pcg        \n",
       "1           NA\n",
       "2  -1.28688648\n",
       "3  -1.03287953\n",
       "4  -0.80143192\n",
       "5  -0.76482474\n",
       "6  -0.42645085\n",
       "7  -0.07255937\n",
       "8  -0.12928488\n",
       "9  -0.01966771\n",
       "10  0.05240380\n",
       "11  0.01192569"
      ]
     },
     "metadata": {},
     "output_type": "display_data"
    }
   ],
   "source": [
    "md.intercensal %>% group_by(county) %>% arrange(year.label) %>% filter(grepl('popestimate', label)) %>% \n",
    "                    mutate(chg = tot.pop - lag(tot.pop),\n",
    "                           pcg = (tot.pop/lag(tot.pop) - 1) * 100) %>% arrange(county, year.label) %>% \n",
    "filter(county == '510')"
   ]
  },
  {
   "cell_type": "markdown",
   "metadata": {},
   "source": [
    "The last 12-month period in which there was a greater than 1.2% decline in population was between July 2000 and July 2001 — 1.3% decline."
   ]
  },
  {
   "cell_type": "markdown",
   "metadata": {},
   "source": [
    "### Finding: The decline marks the fourth year in a row in which the city’s population has fallen, starting in 2015."
   ]
  },
  {
   "cell_type": "markdown",
   "metadata": {},
   "source": [
    "Filter to Baltimore City to show population decline since 2015."
   ]
  },
  {
   "cell_type": "code",
   "execution_count": 38,
   "metadata": {},
   "outputs": [
    {
     "data": {
      "text/html": [
       "<table>\n",
       "<thead><tr><th scope=col>county</th><th scope=col>stname</th><th scope=col>ctyname</th><th scope=col>variable</th><th scope=col>value</th><th scope=col>year.label</th><th scope=col>chg</th><th scope=col>pcg</th></tr></thead>\n",
       "<tbody>\n",
       "\t<tr><td>510            </td><td>Maryland       </td><td>Baltimore city </td><td>popestimate2010</td><td>621005         </td><td>2010           </td><td>   NA          </td><td>         NA    </td></tr>\n",
       "\t<tr><td>510            </td><td>Maryland       </td><td>Baltimore city </td><td>popestimate2011</td><td>620442         </td><td>2011           </td><td> -563          </td><td>-0.09065950    </td></tr>\n",
       "\t<tr><td>510            </td><td>Maryland       </td><td>Baltimore city </td><td>popestimate2012</td><td>622973         </td><td>2012           </td><td> 2531          </td><td> 0.40793499    </td></tr>\n",
       "\t<tr><td>510            </td><td>Maryland       </td><td>Baltimore city </td><td>popestimate2013</td><td>622497         </td><td>2013           </td><td> -476          </td><td>-0.07640781    </td></tr>\n",
       "\t<tr><td>510            </td><td>Maryland       </td><td>Baltimore city </td><td>popestimate2014</td><td>623165         </td><td>2014           </td><td>  668          </td><td> 0.10730975    </td></tr>\n",
       "\t<tr><td>510            </td><td>Maryland       </td><td>Baltimore city </td><td>popestimate2015</td><td>622150         </td><td>2015           </td><td>-1015          </td><td>-0.16287821    </td></tr>\n",
       "\t<tr><td>510            </td><td>Maryland       </td><td>Baltimore city </td><td>popestimate2016</td><td>615849         </td><td>2016           </td><td>-6301          </td><td>-1.01277827    </td></tr>\n",
       "\t<tr><td>510            </td><td>Maryland       </td><td>Baltimore city </td><td>popestimate2017</td><td>609841         </td><td>2017           </td><td>-6008          </td><td>-0.97556382    </td></tr>\n",
       "\t<tr><td>510            </td><td>Maryland       </td><td>Baltimore city </td><td>popestimate2018</td><td>602495         </td><td>2018           </td><td>-7346          </td><td>-1.20457627    </td></tr>\n",
       "</tbody>\n",
       "</table>\n"
      ],
      "text/latex": [
       "\\begin{tabular}{r|llllllll}\n",
       " county & stname & ctyname & variable & value & year.label & chg & pcg\\\\\n",
       "\\hline\n",
       "\t 510             & Maryland        & Baltimore city  & popestimate2010 & 621005          & 2010            &    NA           &          NA    \\\\\n",
       "\t 510             & Maryland        & Baltimore city  & popestimate2011 & 620442          & 2011            &  -563           & -0.09065950    \\\\\n",
       "\t 510             & Maryland        & Baltimore city  & popestimate2012 & 622973          & 2012            &  2531           &  0.40793499    \\\\\n",
       "\t 510             & Maryland        & Baltimore city  & popestimate2013 & 622497          & 2013            &  -476           & -0.07640781    \\\\\n",
       "\t 510             & Maryland        & Baltimore city  & popestimate2014 & 623165          & 2014            &   668           &  0.10730975    \\\\\n",
       "\t 510             & Maryland        & Baltimore city  & popestimate2015 & 622150          & 2015            & -1015           & -0.16287821    \\\\\n",
       "\t 510             & Maryland        & Baltimore city  & popestimate2016 & 615849          & 2016            & -6301           & -1.01277827    \\\\\n",
       "\t 510             & Maryland        & Baltimore city  & popestimate2017 & 609841          & 2017            & -6008           & -0.97556382    \\\\\n",
       "\t 510             & Maryland        & Baltimore city  & popestimate2018 & 602495          & 2018            & -7346           & -1.20457627    \\\\\n",
       "\\end{tabular}\n"
      ],
      "text/markdown": [
       "\n",
       "| county | stname | ctyname | variable | value | year.label | chg | pcg |\n",
       "|---|---|---|---|---|---|---|---|\n",
       "| 510             | Maryland        | Baltimore city  | popestimate2010 | 621005          | 2010            |    NA           |          NA     |\n",
       "| 510             | Maryland        | Baltimore city  | popestimate2011 | 620442          | 2011            |  -563           | -0.09065950     |\n",
       "| 510             | Maryland        | Baltimore city  | popestimate2012 | 622973          | 2012            |  2531           |  0.40793499     |\n",
       "| 510             | Maryland        | Baltimore city  | popestimate2013 | 622497          | 2013            |  -476           | -0.07640781     |\n",
       "| 510             | Maryland        | Baltimore city  | popestimate2014 | 623165          | 2014            |   668           |  0.10730975     |\n",
       "| 510             | Maryland        | Baltimore city  | popestimate2015 | 622150          | 2015            | -1015           | -0.16287821     |\n",
       "| 510             | Maryland        | Baltimore city  | popestimate2016 | 615849          | 2016            | -6301           | -1.01277827     |\n",
       "| 510             | Maryland        | Baltimore city  | popestimate2017 | 609841          | 2017            | -6008           | -0.97556382     |\n",
       "| 510             | Maryland        | Baltimore city  | popestimate2018 | 602495          | 2018            | -7346           | -1.20457627     |\n",
       "\n"
      ],
      "text/plain": [
       "  county stname   ctyname        variable        value  year.label chg  \n",
       "1 510    Maryland Baltimore city popestimate2010 621005 2010          NA\n",
       "2 510    Maryland Baltimore city popestimate2011 620442 2011        -563\n",
       "3 510    Maryland Baltimore city popestimate2012 622973 2012        2531\n",
       "4 510    Maryland Baltimore city popestimate2013 622497 2013        -476\n",
       "5 510    Maryland Baltimore city popestimate2014 623165 2014         668\n",
       "6 510    Maryland Baltimore city popestimate2015 622150 2015       -1015\n",
       "7 510    Maryland Baltimore city popestimate2016 615849 2016       -6301\n",
       "8 510    Maryland Baltimore city popestimate2017 609841 2017       -6008\n",
       "9 510    Maryland Baltimore city popestimate2018 602495 2018       -7346\n",
       "  pcg        \n",
       "1          NA\n",
       "2 -0.09065950\n",
       "3  0.40793499\n",
       "4 -0.07640781\n",
       "5  0.10730975\n",
       "6 -0.16287821\n",
       "7 -1.01277827\n",
       "8 -0.97556382\n",
       "9 -1.20457627"
      ]
     },
     "metadata": {},
     "output_type": "display_data"
    }
   ],
   "source": [
    "pop.18 %>% filter(county == '510')"
   ]
  },
  {
   "cell_type": "markdown",
   "metadata": {},
   "source": [
    "### Finding: Between July 2017 and July 2018, Baltimore lost more than 10,000 residents due to domestic migration and gained nearly 2,000 new residents from international migration. The natural increase in population was 1,037."
   ]
  },
  {
   "cell_type": "markdown",
   "metadata": {},
   "source": [
    "Create a dataframe, `components.18`, that shows the components of population change in each county in Maryland."
   ]
  },
  {
   "cell_type": "code",
   "execution_count": 40,
   "metadata": {},
   "outputs": [],
   "source": [
    "components.18 <- md.18 %>% filter(grepl('^naturalinc', variable) | \n",
    "                                        grepl('^domesticmig', variable) | \n",
    "                                        grepl('^internationalmig', variable) ) %>% \n",
    "  mutate(component = case_when(grepl('^naturalinc', variable) ~ 'natural',\n",
    "                               grepl('^internationalmig', variable) ~ 'international',\n",
    "                               grepl('^domesticmig', variable) ~ 'domestic'))"
   ]
  },
  {
   "cell_type": "markdown",
   "metadata": {},
   "source": [
    "Filter to Baltimore city."
   ]
  },
  {
   "cell_type": "code",
   "execution_count": 43,
   "metadata": {},
   "outputs": [
    {
     "data": {
      "text/html": [
       "<table>\n",
       "<thead><tr><th scope=col>county</th><th scope=col>stname</th><th scope=col>ctyname</th><th scope=col>variable</th><th scope=col>value</th><th scope=col>year.label</th><th scope=col>component</th></tr></thead>\n",
       "<tbody>\n",
       "\t<tr><td>510                 </td><td>Maryland            </td><td>Baltimore city      </td><td>naturalinc2018      </td><td>  1037              </td><td>2018                </td><td>natural             </td></tr>\n",
       "\t<tr><td>510                 </td><td>Maryland            </td><td>Baltimore city      </td><td>internationalmig2018</td><td>  1989              </td><td>2018                </td><td>international       </td></tr>\n",
       "\t<tr><td>510                 </td><td>Maryland            </td><td>Baltimore city      </td><td>domesticmig2018     </td><td>-10370              </td><td>2018                </td><td>domestic            </td></tr>\n",
       "</tbody>\n",
       "</table>\n"
      ],
      "text/latex": [
       "\\begin{tabular}{r|lllllll}\n",
       " county & stname & ctyname & variable & value & year.label & component\\\\\n",
       "\\hline\n",
       "\t 510                  & Maryland             & Baltimore city       & naturalinc2018       &   1037               & 2018                 & natural             \\\\\n",
       "\t 510                  & Maryland             & Baltimore city       & internationalmig2018 &   1989               & 2018                 & international       \\\\\n",
       "\t 510                  & Maryland             & Baltimore city       & domesticmig2018      & -10370               & 2018                 & domestic            \\\\\n",
       "\\end{tabular}\n"
      ],
      "text/markdown": [
       "\n",
       "| county | stname | ctyname | variable | value | year.label | component |\n",
       "|---|---|---|---|---|---|---|\n",
       "| 510                  | Maryland             | Baltimore city       | naturalinc2018       |   1037               | 2018                 | natural              |\n",
       "| 510                  | Maryland             | Baltimore city       | internationalmig2018 |   1989               | 2018                 | international        |\n",
       "| 510                  | Maryland             | Baltimore city       | domesticmig2018      | -10370               | 2018                 | domestic             |\n",
       "\n"
      ],
      "text/plain": [
       "  county stname   ctyname        variable             value  year.label\n",
       "1 510    Maryland Baltimore city naturalinc2018         1037 2018      \n",
       "2 510    Maryland Baltimore city internationalmig2018   1989 2018      \n",
       "3 510    Maryland Baltimore city domesticmig2018      -10370 2018      \n",
       "  component    \n",
       "1 natural      \n",
       "2 international\n",
       "3 domestic     "
      ]
     },
     "metadata": {},
     "output_type": "display_data"
    }
   ],
   "source": [
    "components.18 %>% filter(county == '510' & year.label == 2018)"
   ]
  },
  {
   "cell_type": "code",
   "execution_count": 68,
   "metadata": {},
   "outputs": [
    {
     "name": "stdout",
     "output_type": "stream",
     "text": [
      "[1] \"Between July 2017 and July 2018, Baltimore's domestic migration change was -10370, international migration change was 1989, and the natural increase in population was 1037.\"\n"
     ]
    }
   ],
   "source": [
    "print(paste0(\"Between July 2017 and July 2018, Baltimore's domestic migration change was \",\n",
    "            components.18[components.18$county == '510' & \n",
    "                          components.18$year.label == 2018 & \n",
    "                          components.18$component == 'domestic', ]$value,\n",
    "            \", international migration change was \",\n",
    "            components.18[components.18$county == '510' & \n",
    "                          components.18$year.label == 2018 & \n",
    "                          components.18$component == 'international', ]$value, \n",
    "            \", and the natural increase in population was \",\n",
    "            components.18[components.18$county == '510' & \n",
    "                          components.18$year.label == 2018 & \n",
    "                          components.18$component == 'natural', ]$value, \".\"))"
   ]
  },
  {
   "cell_type": "code",
   "execution_count": 50,
   "metadata": {},
   "outputs": [],
   "source": [
    "components.18 <- components.18 %>% mutate(component.f = factor(component, levels = c('natural',\n",
    "                                                                    'international',\n",
    "                                                                    'domestic'))) %>% \n",
    "  filter(year.label != 2010)"
   ]
  },
  {
   "cell_type": "markdown",
   "metadata": {},
   "source": [
    "Here's a chart of the components of population change in Baltimore."
   ]
  },
  {
   "cell_type": "code",
   "execution_count": 56,
   "metadata": {},
   "outputs": [
    {
     "data": {},
     "metadata": {},
     "output_type": "display_data"
    },
    {
     "data": {
      "image/png": "[encoded data removed]",
      "text/plain": [
       "plot without title"
      ]
     },
     "metadata": {},
     "output_type": "display_data"
    }
   ],
   "source": [
    "ggplot(components.18 %>% filter(county == '510')) + \n",
    "  geom_bar(aes(x = year.label, fill = component,\n",
    "               y = value, group = county), \n",
    "           stat = 'identity') + \n",
    "  facet_wrap(~component.f) +\n",
    "  labs(x = '', y = '') +\n",
    "  scale_fill_manual(values = c( '#5B889D','#5B889D' ,'#5B889D')) +\n",
    "  theme(panel.background = element_blank(), \n",
    "        plot.background = element_blank(),\n",
    "        panel.grid.major.y =  element_line(color = 'darkgrey'),\n",
    "        panel.grid.major.x = element_blank(),\n",
    "        panel.grid.minor.x = element_blank(),\n",
    "        axis.line.x = element_line(),\n",
    "        legend.position = 'none') + \n",
    "  scale_y_continuous(limits = c(-11000, 4000)) + ggtitle(\"Components of population change in Baltimore city\")"
   ]
  },
  {
   "cell_type": "markdown",
   "metadata": {},
   "source": [
    "### Finding: Over the 12-month period, domestic migration in Maryland was 24,518, international migration added 22,575 residents and the natural population increase was 19,845."
   ]
  },
  {
   "cell_type": "markdown",
   "metadata": {},
   "source": [
    "Filter `components.18` to Maryland."
   ]
  },
  {
   "cell_type": "code",
   "execution_count": 58,
   "metadata": {},
   "outputs": [
    {
     "data": {
      "text/html": [
       "<table>\n",
       "<thead><tr><th scope=col>county</th><th scope=col>stname</th><th scope=col>ctyname</th><th scope=col>variable</th><th scope=col>value</th><th scope=col>year.label</th><th scope=col>component</th><th scope=col>component.f</th></tr></thead>\n",
       "<tbody>\n",
       "\t<tr><td>000                 </td><td>Maryland            </td><td>Maryland            </td><td>naturalinc2018      </td><td> 19845              </td><td>2018                </td><td>natural             </td><td>natural             </td></tr>\n",
       "\t<tr><td>000                 </td><td>Maryland            </td><td>Maryland            </td><td>internationalmig2018</td><td> 22575              </td><td>2018                </td><td>international       </td><td>international       </td></tr>\n",
       "\t<tr><td>000                 </td><td>Maryland            </td><td>Maryland            </td><td>domesticmig2018     </td><td>-24518              </td><td>2018                </td><td>domestic            </td><td>domestic            </td></tr>\n",
       "</tbody>\n",
       "</table>\n"
      ],
      "text/latex": [
       "\\begin{tabular}{r|llllllll}\n",
       " county & stname & ctyname & variable & value & year.label & component & component.f\\\\\n",
       "\\hline\n",
       "\t 000                  & Maryland             & Maryland             & naturalinc2018       &  19845               & 2018                 & natural              & natural             \\\\\n",
       "\t 000                  & Maryland             & Maryland             & internationalmig2018 &  22575               & 2018                 & international        & international       \\\\\n",
       "\t 000                  & Maryland             & Maryland             & domesticmig2018      & -24518               & 2018                 & domestic             & domestic            \\\\\n",
       "\\end{tabular}\n"
      ],
      "text/markdown": [
       "\n",
       "| county | stname | ctyname | variable | value | year.label | component | component.f |\n",
       "|---|---|---|---|---|---|---|---|\n",
       "| 000                  | Maryland             | Maryland             | naturalinc2018       |  19845               | 2018                 | natural              | natural              |\n",
       "| 000                  | Maryland             | Maryland             | internationalmig2018 |  22575               | 2018                 | international        | international        |\n",
       "| 000                  | Maryland             | Maryland             | domesticmig2018      | -24518               | 2018                 | domestic             | domestic             |\n",
       "\n"
      ],
      "text/plain": [
       "  county stname   ctyname  variable             value  year.label component    \n",
       "1 000    Maryland Maryland naturalinc2018        19845 2018       natural      \n",
       "2 000    Maryland Maryland internationalmig2018  22575 2018       international\n",
       "3 000    Maryland Maryland domesticmig2018      -24518 2018       domestic     \n",
       "  component.f  \n",
       "1 natural      \n",
       "2 international\n",
       "3 domestic     "
      ]
     },
     "metadata": {},
     "output_type": "display_data"
    }
   ],
   "source": [
    "components.18 %>% filter(county == '000' & year.label == 2018)"
   ]
  },
  {
   "cell_type": "code",
   "execution_count": 69,
   "metadata": {},
   "outputs": [
    {
     "name": "stdout",
     "output_type": "stream",
     "text": [
      "[1] \"Between July 2017 and July 2018, Maryland's domestic migration change was -24518, international migration change was 22575, and the natural increase in population was 19845.\"\n"
     ]
    }
   ],
   "source": [
    "print(paste0(\"Between July 2017 and July 2018, Maryland's domestic migration change was \",\n",
    "            components.18[components.18$county == '000' & \n",
    "                          components.18$year.label == 2018 & \n",
    "                          components.18$component == 'domestic', ]$value,\n",
    "            \", international migration change was \",\n",
    "            components.18[components.18$county == '000' & \n",
    "                          components.18$year.label == 2018 & \n",
    "                          components.18$component == 'international', ]$value, \n",
    "            \", and the natural increase in population was \",\n",
    "            components.18[components.18$county == '000' & \n",
    "                          components.18$year.label == 2018 & \n",
    "                          components.18$component == 'natural', ]$value, \".\"))"
   ]
  },
  {
   "cell_type": "markdown",
   "metadata": {},
   "source": [
    "### Finding: Since July 2010, Baltimore has lost more than 18,500 residents, or 3% of its population, while its neighbors have seen population gains."
   ]
  },
  {
   "cell_type": "markdown",
   "metadata": {},
   "source": [
    "Calculate numberic and percentage change in population since 2010 using the `pop.18` dataframe."
   ]
  },
  {
   "cell_type": "code",
   "execution_count": 94,
   "metadata": {},
   "outputs": [],
   "source": [
    "pop.18 <- pop.18 %>% mutate(chg_10 = value-lag(value, 8),\n",
    "                  pcg_10 = (value/lag(value, 8) - 1) * 100) "
   ]
  },
  {
   "cell_type": "markdown",
   "metadata": {},
   "source": [
    "Filter to Baltimore City."
   ]
  },
  {
   "cell_type": "code",
   "execution_count": 98,
   "metadata": {},
   "outputs": [
    {
     "data": {
      "text/html": [
       "<table>\n",
       "<thead><tr><th scope=col>county</th><th scope=col>stname</th><th scope=col>ctyname</th><th scope=col>variable</th><th scope=col>value</th><th scope=col>year.label</th><th scope=col>chg</th><th scope=col>pcg</th><th scope=col>chg_10</th><th scope=col>pcg_10</th></tr></thead>\n",
       "<tbody>\n",
       "\t<tr><td>510            </td><td>Maryland       </td><td>Baltimore city </td><td>popestimate2018</td><td>602495         </td><td>2018           </td><td>-7346          </td><td>-1.204576      </td><td>-18510         </td><td>-2.980652      </td></tr>\n",
       "</tbody>\n",
       "</table>\n"
      ],
      "text/latex": [
       "\\begin{tabular}{r|llllllllll}\n",
       " county & stname & ctyname & variable & value & year.label & chg & pcg & chg\\_10 & pcg\\_10\\\\\n",
       "\\hline\n",
       "\t 510             & Maryland        & Baltimore city  & popestimate2018 & 602495          & 2018            & -7346           & -1.204576       & -18510          & -2.980652      \\\\\n",
       "\\end{tabular}\n"
      ],
      "text/markdown": [
       "\n",
       "| county | stname | ctyname | variable | value | year.label | chg | pcg | chg_10 | pcg_10 |\n",
       "|---|---|---|---|---|---|---|---|---|---|\n",
       "| 510             | Maryland        | Baltimore city  | popestimate2018 | 602495          | 2018            | -7346           | -1.204576       | -18510          | -2.980652       |\n",
       "\n"
      ],
      "text/plain": [
       "  county stname   ctyname        variable        value  year.label chg  \n",
       "1 510    Maryland Baltimore city popestimate2018 602495 2018       -7346\n",
       "  pcg       chg_10 pcg_10   \n",
       "1 -1.204576 -18510 -2.980652"
      ]
     },
     "metadata": {},
     "output_type": "display_data"
    }
   ],
   "source": [
    "pop.18 %>% filter(county == '510' & year.label == 2018)"
   ]
  },
  {
   "cell_type": "code",
   "execution_count": 103,
   "metadata": {},
   "outputs": [
    {
     "name": "stdout",
     "output_type": "stream",
     "text": [
      "[1] \"Since July 2010, Baltimore has lost -18510 residents, or -2.98 % of its population.\"\n"
     ]
    }
   ],
   "source": [
    "print(paste(\"Since July 2010, Baltimore has lost\",\n",
    "            pop.18[pop.18$county == '510' & \n",
    "                   pop.18$year.label == 2018, ]$chg_10,\n",
    "            \"residents, or\",\n",
    "            round(pop.18[pop.18$county == '510' & \n",
    "                   pop.18$year.label == 2018, ]$pcg_10, 2), \n",
    "            \"% of its population.\"))"
   ]
  },
  {
   "cell_type": "markdown",
   "metadata": {},
   "source": [
    "Filter to neighboring counties and select change since 2010. All are positive except for Baltimore City."
   ]
  },
  {
   "cell_type": "code",
   "execution_count": 113,
   "metadata": {},
   "outputs": [
    {
     "name": "stderr",
     "output_type": "stream",
     "text": [
      "Adding missing grouping variables: `county`\n"
     ]
    },
    {
     "data": {
      "text/html": [
       "<table>\n",
       "<thead><tr><th scope=col>county</th><th scope=col>ctyname</th><th scope=col>pcg_10</th></tr></thead>\n",
       "<tbody>\n",
       "\t<tr><td>003                </td><td>Anne Arundel County</td><td> 6.8154214         </td></tr>\n",
       "\t<tr><td>005                </td><td>Baltimore County   </td><td> 2.7116396         </td></tr>\n",
       "\t<tr><td>013                </td><td>Carroll County     </td><td> 0.7278186         </td></tr>\n",
       "\t<tr><td>025                </td><td>Harford County     </td><td> 3.5561808         </td></tr>\n",
       "\t<tr><td>027                </td><td>Howard County      </td><td>11.9766620         </td></tr>\n",
       "\t<tr><td>510                </td><td>Baltimore city     </td><td>-2.9806523         </td></tr>\n",
       "</tbody>\n",
       "</table>\n"
      ],
      "text/latex": [
       "\\begin{tabular}{r|lll}\n",
       " county & ctyname & pcg\\_10\\\\\n",
       "\\hline\n",
       "\t 003                 & Anne Arundel County &  6.8154214         \\\\\n",
       "\t 005                 & Baltimore County    &  2.7116396         \\\\\n",
       "\t 013                 & Carroll County      &  0.7278186         \\\\\n",
       "\t 025                 & Harford County      &  3.5561808         \\\\\n",
       "\t 027                 & Howard County       & 11.9766620         \\\\\n",
       "\t 510                 & Baltimore city      & -2.9806523         \\\\\n",
       "\\end{tabular}\n"
      ],
      "text/markdown": [
       "\n",
       "| county | ctyname | pcg_10 |\n",
       "|---|---|---|\n",
       "| 003                 | Anne Arundel County |  6.8154214          |\n",
       "| 005                 | Baltimore County    |  2.7116396          |\n",
       "| 013                 | Carroll County      |  0.7278186          |\n",
       "| 025                 | Harford County      |  3.5561808          |\n",
       "| 027                 | Howard County       | 11.9766620          |\n",
       "| 510                 | Baltimore city      | -2.9806523          |\n",
       "\n"
      ],
      "text/plain": [
       "  county ctyname             pcg_10    \n",
       "1 003    Anne Arundel County  6.8154214\n",
       "2 005    Baltimore County     2.7116396\n",
       "3 013    Carroll County       0.7278186\n",
       "4 025    Harford County       3.5561808\n",
       "5 027    Howard County       11.9766620\n",
       "6 510    Baltimore city      -2.9806523"
      ]
     },
     "metadata": {},
     "output_type": "display_data"
    }
   ],
   "source": [
    "pop.18 %>% filter(year.label == 2018 & ( \n",
    "                  ctyname == 'Anne Arundel County' |\n",
    "                  ctyname == 'Baltimore County' | \n",
    "                  ctyname == 'Carroll County' | \n",
    "                  ctyname == 'Harford County' | \n",
    "                  ctyname == 'Howard County' | \n",
    "                  ctyname == 'Baltimore city')) %>% select(ctyname, pcg_10)"
   ]
  },
  {
   "cell_type": "markdown",
   "metadata": {},
   "source": [
    "### Finding: Between 2017 and 2018, all other counties in the Baltimore region experienced upticks in population, with the exception of Baltimore County, whose year-over-year numbers remained flat."
   ]
  },
  {
   "cell_type": "markdown",
   "metadata": {},
   "source": [
    "Filter to neighboring counties and select change since 2010. All are positive except for Baltimore City and Baltimore County whose numbers were basically flat."
   ]
  },
  {
   "cell_type": "code",
   "execution_count": 115,
   "metadata": {},
   "outputs": [
    {
     "name": "stderr",
     "output_type": "stream",
     "text": [
      "Adding missing grouping variables: `county`\n"
     ]
    },
    {
     "data": {
      "text/html": [
       "<table>\n",
       "<thead><tr><th scope=col>county</th><th scope=col>ctyname</th><th scope=col>pcg</th></tr></thead>\n",
       "<tbody>\n",
       "\t<tr><td>003                </td><td>Anne Arundel County</td><td> 0.77660289        </td></tr>\n",
       "\t<tr><td>005                </td><td>Baltimore County   </td><td>-0.02075783        </td></tr>\n",
       "\t<tr><td>013                </td><td>Carroll County     </td><td> 0.48263930        </td></tr>\n",
       "\t<tr><td>025                </td><td>Harford County     </td><td> 0.82019929        </td></tr>\n",
       "\t<tr><td>027                </td><td>Howard County      </td><td> 1.19671608        </td></tr>\n",
       "\t<tr><td>510                </td><td>Baltimore city     </td><td>-1.20457627        </td></tr>\n",
       "</tbody>\n",
       "</table>\n"
      ],
      "text/latex": [
       "\\begin{tabular}{r|lll}\n",
       " county & ctyname & pcg\\\\\n",
       "\\hline\n",
       "\t 003                 & Anne Arundel County &  0.77660289        \\\\\n",
       "\t 005                 & Baltimore County    & -0.02075783        \\\\\n",
       "\t 013                 & Carroll County      &  0.48263930        \\\\\n",
       "\t 025                 & Harford County      &  0.82019929        \\\\\n",
       "\t 027                 & Howard County       &  1.19671608        \\\\\n",
       "\t 510                 & Baltimore city      & -1.20457627        \\\\\n",
       "\\end{tabular}\n"
      ],
      "text/markdown": [
       "\n",
       "| county | ctyname | pcg |\n",
       "|---|---|---|\n",
       "| 003                 | Anne Arundel County |  0.77660289         |\n",
       "| 005                 | Baltimore County    | -0.02075783         |\n",
       "| 013                 | Carroll County      |  0.48263930         |\n",
       "| 025                 | Harford County      |  0.82019929         |\n",
       "| 027                 | Howard County       |  1.19671608         |\n",
       "| 510                 | Baltimore city      | -1.20457627         |\n",
       "\n"
      ],
      "text/plain": [
       "  county ctyname             pcg        \n",
       "1 003    Anne Arundel County  0.77660289\n",
       "2 005    Baltimore County    -0.02075783\n",
       "3 013    Carroll County       0.48263930\n",
       "4 025    Harford County       0.82019929\n",
       "5 027    Howard County        1.19671608\n",
       "6 510    Baltimore city      -1.20457627"
      ]
     },
     "metadata": {},
     "output_type": "display_data"
    }
   ],
   "source": [
    "pop.18 %>% filter(year.label == 2018 & ( \n",
    "                  ctyname == 'Anne Arundel County' |\n",
    "                  ctyname == 'Baltimore County' | \n",
    "                  ctyname == 'Carroll County' | \n",
    "                  ctyname == 'Harford County' | \n",
    "                  ctyname == 'Howard County' | \n",
    "                  ctyname == 'Baltimore city')) %>% select(ctyname, pcg)"
   ]
  },
  {
   "cell_type": "markdown",
   "metadata": {},
   "source": [
    "### Finding: Population estimates showing a slight increase in Baltimore's population in 2006 were revised after the 2010 decennial census, turning a slight increase in population into a very small decline."
   ]
  },
  {
   "cell_type": "markdown",
   "metadata": {},
   "source": [
    "Use the postcensal estimates for 2000-2010, `postcensal`, to calculate changes in counties' population over that decade according to the numbers created at the time (i.e., not taking into account the results of the 2010 decennial census). Filter to Baltimore City and the year 2006."
   ]
  },
  {
   "cell_type": "code",
   "execution_count": 118,
   "metadata": {},
   "outputs": [
    {
     "data": {
      "text/html": [
       "<table>\n",
       "<thead><tr><th scope=col>stname</th><th scope=col>ctyname</th><th scope=col>county</th><th scope=col>label</th><th scope=col>tot.pop</th><th scope=col>year.label</th><th scope=col>chg</th><th scope=col>pcg</th></tr></thead>\n",
       "<tbody>\n",
       "\t<tr><td>Maryland         </td><td>Baltimore city   </td><td>510              </td><td>popestimate072006</td><td>640961           </td><td>2006             </td><td>897              </td><td>0.1401422        </td></tr>\n",
       "</tbody>\n",
       "</table>\n"
      ],
      "text/latex": [
       "\\begin{tabular}{r|llllllll}\n",
       " stname & ctyname & county & label & tot.pop & year.label & chg & pcg\\\\\n",
       "\\hline\n",
       "\t Maryland          & Baltimore city    & 510               & popestimate072006 & 640961            & 2006              & 897               & 0.1401422        \\\\\n",
       "\\end{tabular}\n"
      ],
      "text/markdown": [
       "\n",
       "| stname | ctyname | county | label | tot.pop | year.label | chg | pcg |\n",
       "|---|---|---|---|---|---|---|---|\n",
       "| Maryland          | Baltimore city    | 510               | popestimate072006 | 640961            | 2006              | 897               | 0.1401422         |\n",
       "\n"
      ],
      "text/plain": [
       "  stname   ctyname        county label             tot.pop year.label chg\n",
       "1 Maryland Baltimore city 510    popestimate072006 640961  2006       897\n",
       "  pcg      \n",
       "1 0.1401422"
      ]
     },
     "metadata": {},
     "output_type": "display_data"
    }
   ],
   "source": [
    "md.postcensal %>% group_by(county) %>% arrange(year.label) %>% filter(grepl('popestimate', label)) %>% \n",
    "                    mutate(chg = tot.pop - lag(tot.pop),\n",
    "                           pcg = (tot.pop/lag(tot.pop) - 1) * 100) %>% arrange(county, year.label) %>% \n",
    "filter(county == '510' & year.label == 2006)"
   ]
  },
  {
   "cell_type": "markdown",
   "metadata": {},
   "source": [
    "Use the postcensal estimates for 2000-2010, `intercensal`, to calculate changes in counties' population over that decade according to the *revised* numbers calculated after taking into account the results of the 2010 decennial census. Filter to Baltimore City and the year 2006."
   ]
  },
  {
   "cell_type": "code",
   "execution_count": 120,
   "metadata": {},
   "outputs": [
    {
     "data": {
      "text/html": [
       "<table>\n",
       "<thead><tr><th scope=col>stname</th><th scope=col>ctyname</th><th scope=col>county</th><th scope=col>label</th><th scope=col>tot.pop</th><th scope=col>year.label</th><th scope=col>chg</th><th scope=col>pcg</th></tr></thead>\n",
       "<tbody>\n",
       "\t<tr><td>Maryland       </td><td>Baltimore city </td><td>510            </td><td>popestimate2006</td><td>621109         </td><td>2006           </td><td>-451           </td><td>-0.07255937    </td></tr>\n",
       "</tbody>\n",
       "</table>\n"
      ],
      "text/latex": [
       "\\begin{tabular}{r|llllllll}\n",
       " stname & ctyname & county & label & tot.pop & year.label & chg & pcg\\\\\n",
       "\\hline\n",
       "\t Maryland        & Baltimore city  & 510             & popestimate2006 & 621109          & 2006            & -451            & -0.07255937    \\\\\n",
       "\\end{tabular}\n"
      ],
      "text/markdown": [
       "\n",
       "| stname | ctyname | county | label | tot.pop | year.label | chg | pcg |\n",
       "|---|---|---|---|---|---|---|---|\n",
       "| Maryland        | Baltimore city  | 510             | popestimate2006 | 621109          | 2006            | -451            | -0.07255937     |\n",
       "\n"
      ],
      "text/plain": [
       "  stname   ctyname        county label           tot.pop year.label chg \n",
       "1 Maryland Baltimore city 510    popestimate2006 621109  2006       -451\n",
       "  pcg        \n",
       "1 -0.07255937"
      ]
     },
     "metadata": {},
     "output_type": "display_data"
    }
   ],
   "source": [
    "md.intercensal %>% group_by(county) %>% arrange(year.label) %>% filter(grepl('popestimate', label)) %>% \n",
    "                    mutate(chg = tot.pop - lag(tot.pop),\n",
    "                           pcg = (tot.pop/lag(tot.pop) - 1) * 100) %>% arrange(county, year.label) %>% \n",
    "filter(county == '510' & year.label == 2006)"
   ]
  },
  {
   "cell_type": "markdown",
   "metadata": {},
   "source": [
    "The previous estimated increase of 897 residents was revised to be a decline of 451 residents."
   ]
  }
 ],
 "metadata": {
  "kernelspec": {
   "display_name": "R",
   "language": "R",
   "name": "ir"
  },
  "language_info": {
   "codemirror_mode": "r",
   "file_extension": ".r",
   "mimetype": "text/x-r-source",
   "name": "R",
   "pygments_lexer": "r",
   "version": "3.5.3"
  }
 },
 "nbformat": 4,
 "nbformat_minor": 2
}
